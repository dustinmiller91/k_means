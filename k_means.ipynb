{
 "cells": [
  {
   "cell_type": "code",
   "execution_count": 1,
   "metadata": {},
   "outputs": [],
   "source": [
    "# Import the nessecary libraries\n",
    "import math\n",
    "import matplotlib.pyplot as plt\n",
    "import numpy as np\n",
    "import pandas as pd"
   ]
  },
  {
   "cell_type": "code",
   "execution_count": 2,
   "metadata": {},
   "outputs": [],
   "source": [
    "# WORKING - Given a filename, read the file as a dataframe\n",
    "data = pd.read_csv('cancer.csv', header = None)"
   ]
  },
  {
   "cell_type": "code",
   "execution_count": 3,
   "metadata": {},
   "outputs": [],
   "source": [
    "# WORKING\n",
    "# Euclidian distance formula. Takes two iterables of coordinates arguments and returns the distance between them.\n",
    "def calculate_distance(coords_1, coords_2):\n",
    "    # Basic precondition check\n",
    "    assert (len(coords_1) == len(coords_2)), \"Coordinate lists have different lengths!\"\n",
    "    # Iterate through each coordinate and keep a running sum of their squares\n",
    "    sum_squares = 0\n",
    "    for i in range(0, len(coords_1)):\n",
    "        difference = coords_1[i] - coords_2[i]\n",
    "        sum_squares += (difference * difference)\n",
    "    # Return the square root of our sum\n",
    "    distance =  math.sqrt(sum_squares)\n",
    "    return(distance)"
   ]
  },
  {
   "cell_type": "code",
   "execution_count": 4,
   "metadata": {},
   "outputs": [],
   "source": [
    "# A class to represent our individual data points (or rows in our datafrane)\n",
    "class DataPoint():\n",
    "    def __init__(self, centroids, dataFrame, row):\n",
    "        \n",
    "        # so we can reference the original dataframe as needed\n",
    "        self.data = dataFrame.iloc[row]    \n",
    "        \n",
    "        # WORKING - set up each data point\n",
    "        self.listData = []\n",
    "        for i in self.data:\n",
    "            self.listData.append(self.data.iat[0, i])\n",
    "        self.listData = self.listData[1:]\n",
    "        \n",
    "        # WORKING - Assign a group / centroid at random\n",
    "        self.nearestCentroid = np.random.randint(len(centroids))\n",
    "\n",
    "    # WORKING - This is ugly, but since it's only for testing I don't really care.\n",
    "    def __repr__(self):\n",
    "        repStr = ''\n",
    "        for i in self.listData:\n",
    "            repStr += str(i) + ', '\n",
    "        return repStr.strip()[0: -1] + '\\n'\n",
    "\n",
    "    # Iterate through all the centroids and find the nearest one.\n",
    "    def getNearestCentroid(self, centroids):\n",
    "        nearest = 0\n",
    "        nearestDistance = calculate_distance(self.listData, centroids[0])\n",
    "        for i in range(0, len(centroids)):\n",
    "            newDistance = calculate_distance(self.listData, centroids[i])\n",
    "            if newDistance < nearestDistance:\n",
    "                nearestDistance = newDistance\n",
    "                nearest = i\n",
    "        return nearest"
   ]
  },
  {
   "cell_type": "code",
   "execution_count": 5,
   "metadata": {},
   "outputs": [],
   "source": [
    "# WORKING - Create K random centroids based on our dataset\n",
    "def random_centroids(k, data_frame):\n",
    "    centroids = []\n",
    "    for i in range(0, k):\n",
    "        coords = []\n",
    "        for j in range(1, len(data_frame.columns)):\n",
    "            coords.append(np.random.randint(-5, 6))\n",
    "        centroids.append(coords)\n",
    "    return centroids"
   ]
  },
  {
   "cell_type": "code",
   "execution_count": 6,
   "metadata": {},
   "outputs": [],
   "source": [
    "# WORKING - Create a list of datapoints, one for each row of our dataframe\n",
    "def create_points(centroids, dataFrame):\n",
    "    pointList = []\n",
    "    for i in range(0, len(dataFrame.index)):\n",
    "        pointList.append(DataPoint(centroids, dataFrame,[i]))\n",
    "    return pointList"
   ]
  },
  {
   "cell_type": "code",
   "execution_count": 7,
   "metadata": {},
   "outputs": [],
   "source": [
    "def calculate_centroids(pointList, centroids):\n",
    "    points = []\n",
    "    # For each centroid\n",
    "    for i in range(0, len(centroids)):\n",
    "        # Make a list of all points that have it assigned as their \"nearestCentroid\"\n",
    "        points = []\n",
    "        for point in pointList:\n",
    "            if point.nearestCentroid == i:\n",
    "                points.append(point)\n",
    "        # Now we calculate our new centroid by taking the average of all values in our list\n",
    "        if len(points) > 0:\n",
    "            # Originally this was a one-liner, but I had to split it up for debugging purposes.\n",
    "            # Make a list of all the points\n",
    "            array_base = []\n",
    "            for point in points:\n",
    "                array_base += point.listData\n",
    "            # Turn that into a numpy array and reshape it so each point's values are stacked on top of one another\n",
    "            array = np.array(array_base).reshape(len(points), (len(data.columns) - 1))\n",
    "            # Sum our columns\n",
    "            array_sum = np.sum(array, 0)\n",
    "            # Divide by the number of rows to get our new centroid\n",
    "            array_avg = array_sum / len(points)\n",
    "            # Convert it back into a list\n",
    "            array_list = array_avg.tolist()\n",
    "            # Assign this as our new centroid\n",
    "            centroids[i] = array_list"
   ]
  },
  {
   "cell_type": "code",
   "execution_count": 8,
   "metadata": {},
   "outputs": [],
   "source": [
    "# WORKING - Calculates our new centroids based on their grouping\n",
    "def assign_centroids(pointList, centroids):\n",
    "    for i in pointList:\n",
    "        i.nearestCentroid = i.getNearestCentroid(centroids)"
   ]
  },
  {
   "cell_type": "code",
   "execution_count": 9,
   "metadata": {},
   "outputs": [],
   "source": [
    "# WORKING - Our complete function\n",
    "def k_means(k, raw_data, iter_max):\n",
    "    centroids = random_centroids(k, data)\n",
    "    pointList = create_points(centroids, data)\n",
    "    \n",
    "    # Initialize a list for use in checking cluster assignments\n",
    "    clusters = []\n",
    "    # Iterate repeatedly, recalculating centroids and reassigning groups until assignments stay the same\n",
    "    for i in range(0, iter_max):\n",
    "        calculate_centroids(pointList, centroids)\n",
    "        assign_centroids(pointList, centroids)\n",
    "        \n",
    "        # Check if our cluster assignments have changed\n",
    "        new_clusters = [point.nearestCentroid for point in pointList]\n",
    "        # If there is no change then we are finished and can return\n",
    "        if new_clusters == clusters:\n",
    "            break\n",
    "    \n",
    "                         # start our list of values that will be used for plotting.\n",
    "    dfList = []\n",
    "    # Add our points to our list of lists in order of cluster assignments\n",
    "    for i in range(0, k):\n",
    "        for point in pointList:\n",
    "            if point.nearestCentroid == i:\n",
    "                dfList.append(point.listData)\n",
    "    # Make dfList into a dataframe so we can plot it\n",
    "    plotDf = pd.DataFrame(dfList)\n",
    "    \n",
    "    # Create the plot\n",
    "    %matplotlib inline\n",
    "    import matplotlib.pyplot as plt\n",
    "    plt.pcolor(dfList, cmap = 'RdBu')\n",
    "    "
   ]
  },
  {
   "cell_type": "code",
   "execution_count": 10,
   "metadata": {},
   "outputs": [
    {
     "data": {
      "image/png": "[encoded data removed]",
      "text/plain": [
       "<Figure size 432x288 with 1 Axes>"
      ]
     },
     "metadata": {
      "needs_background": "light"
     },
     "output_type": "display_data"
    }
   ],
   "source": [
    "# Make the magic happen!\n",
    "k_means(2, data, 100)\n"
   ]
  },
  {
   "cell_type": "markdown",
   "metadata": {},
   "source": [
    "## Discussion\n",
    "    \n",
    "    Overall this worked out quite well. I chose to define the class DataPoint so that I would not have to continusously reference the initial dataframe. Pandas is incredibly useful, but a large part of its funcitonality is excessive here. Instead I chose to convert each row's data into a DataPoint object and store the raw data as a list. Realistically this should be stored as a tuple instead but I'm almost done here and don't want to rewrite a bunch of code/references\n",
    "    \n",
    "    I chose to separate each task into its own function/method so that the code could be both modular (for easy testing purposes) and readable. This made debugging much more straightforward.\n",
    "    \n",
    "    Centroid / cluster data was stored simply as lists. Each centroid simply had a list of values that were updated each iteration, and each data point stored a value that was the index of the list of centroids for the centroid it was nearest to. This made things very quick and easy.\n",
    "    \n",
    "    Finally the value of 2 was chosen for k in our final run of the algorithm. In an ideal world I would have the time to code up an automated version of the elbow method for determining optimal k, but I have a lot to do this afternoon so I'm going to end it here. Instead I experimented with different values manually. K = 2 had the most obvious delination between groups in the final heatmap, though 3 groups was almost as marked (with a lot of neutral groups falling together). Ultimately 2 groups also fits a binary model of YES/NO cancer risk based on gene expression (though obviously this is a sliding scale in reality, all data analysis is an abstraction).\n"
   ]
  }
 ],
 "metadata": {
  "kernelspec": {
   "display_name": "Python 3",
   "language": "python",
   "name": "python3"
  },
  "language_info": {
   "codemirror_mode": {
    "name": "ipython",
    "version": 3
   },
   "file_extension": ".py",
   "mimetype": "text/x-python",
   "name": "python",
   "nbconvert_exporter": "python",
   "pygments_lexer": "ipython3",
   "version": "3.7.3"
  }
 },
 "nbformat": 4,
 "nbformat_minor": 2
}
