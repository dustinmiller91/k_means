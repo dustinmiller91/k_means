{
 "cells": [
  {
   "cell_type": "markdown",
   "metadata": {},
   "source": [
    "# Implementing K-Means Clustering\n",
    "\n",
    "Lets explore the nuts and bolts of K-means clustering, a popular machine learning technique. \n",
    "\n",
    "I'm not going to get too much into descriptions and explanations here. If you're reading this I think its safe to assume you already know what k-means clustering is and the basics of how it works. This is my attempt at a from-scratch implementation for the algorithm for the sake of education.\n",
    "\n",
    "A full and in-depth explanation of the technique can be found [here](https://www.analyticsvidhya.com/blog/2019/08/comprehensive-guide-k-means-clustering/)."
   ]
  },
  {
   "cell_type": "markdown",
   "metadata": {},
   "source": [
    "## Libraries\n",
    "\n",
    "We'll import a few different things for use here.\n",
    "\n",
    "* the 'math' library is going to be used so we can calculate euclidean distance\n",
    "* matplotlib will be used for plotting a few different things toward the end of the project\n",
    "* numpy is handy for operations on our dataset, namely calculating and recalculating our centroids\n",
    "* pandas is kind of unnessecary for the most part. I just use it to easily import our dataset."
   ]
  },
  {
   "cell_type": "code",
   "execution_count": 87,
   "metadata": {},
   "outputs": [],
   "source": [
    "# Import the nessecary libraries\n",
    "import math\n",
    "import matplotlib.pyplot as plt\n",
    "import numpy as np\n",
    "import pandas as pd"
   ]
  },
  {
   "cell_type": "markdown",
   "metadata": {},
   "source": [
    "## Import Data\n",
    "\n",
    "The dataset we'll be using is a dataset from van't Veer et al., \"Gene expression profiling predicts clinical outcome of breast cancer\" in Nature 2002, 415:530-536.\n",
    "\n",
    "The data has already been processed and normalized, so we don't need to fiddle around with any of that. Without further ado let's read it into a dataframe!\n"
   ]
  },
  {
   "cell_type": "code",
   "execution_count": 90,
   "metadata": {},
   "outputs": [],
   "source": [
    "# Given a filename, read the file as a dataframe\n",
    "data = pd.read_csv('cancer.csv', header = None)"
   ]
  },
  {
   "cell_type": "markdown",
   "metadata": {},
   "source": [
    "## Euclidan Distance Formula\n",
    "\n",
    "This function calculates the [euclidean distance](https://en.wikipedia.org/wiki/Euclidean_distance) between two iterables of equal lengths containing numeric data."
   ]
  },
  {
   "cell_type": "code",
   "execution_count": 93,
   "metadata": {},
   "outputs": [],
   "source": [
    "# Euclidian distance formula. Takes two iterables of coordinates arguments and returns the distance between them.\n",
    "def calculate_distance(coords_1, coords_2):\n",
    "    # Basic precondition check\n",
    "    assert (len(coords_1) == len(coords_2)), \"Coordinate lists have different lengths!\"\n",
    "    # Iterate through each coordinate and keep a running sum of their squares\n",
    "    sum_squares = 0\n",
    "    for i in range(0, len(coords_1)):\n",
    "        difference = coords_1[i] - coords_2[i]\n",
    "        sum_squares += (difference * difference)\n",
    "    # Return the square root of our sum\n",
    "    distance =  math.sqrt(sum_squares)\n",
    "    return(distance)"
   ]
  },
  {
   "cell_type": "markdown",
   "metadata": {},
   "source": [
    "## The DataPoint Class\n",
    "\n",
    "Each row in our dataset will be converted into a DataPoint object. This has several advantages.\n",
    "* We can convert our row data to a tuple and store it in the object. This is quicker and harder to accidentally screw up than leaving things as a dataframe.\n",
    "* The __init__ method can be utilized to do a lot of the heavy lifting. This is were we assign our initial random centroid.\n",
    "* the __repr__ method is handy for testing and debugging.\n",
    "* Each data point has the __getNearestCentroid__ method, which will be handy later."
   ]
  },
  {
   "cell_type": "code",
   "execution_count": 94,
   "metadata": {},
   "outputs": [],
   "source": [
    "# A class to represent our individual data points (or rows in our datafrane)\n",
    "class DataPoint():\n",
    "    def __init__(self, centroids, dataFrame, row):\n",
    "        # so we can reference the original dataframe as needed\n",
    "        self.data = dataFrame.iloc[row]    \n",
    "        # store our data as a list, since dataframes are a little clunky here \n",
    "        self.listData = []\n",
    "        for i in self.data:\n",
    "            self.listData.append(self.data.iat[0, i])\n",
    "        \n",
    "        # I could leave this as a list, but tuples are harder to screw up accidentally\n",
    "        self.tupleData = tuple(self.listData[1:])\n",
    "        \n",
    "        # Assign a group / centroid at random\n",
    "        self.nearestCentroid = np.random.randint(len(centroids))\n",
    "        \n",
    "        \n",
    "    # WORKING - This is ugly, but since it's only for testing I don't really care.\n",
    "    def __repr__(self):\n",
    "        repStr = ''\n",
    "        for i in self.tupleData:\n",
    "            repStr += str(i) + ', '\n",
    "        return repStr.strip()[0: -1] + '\\n'\n",
    "\n",
    "    # Iterate through all the centroids and find the nearest one.\n",
    "    def getNearestCentroid(self, centroids):\n",
    "        nearest = 0\n",
    "        nearestDistance = calculate_distance(self.tupleData, centroids[0])\n",
    "        for i in range(0, len(centroids)):\n",
    "            newDistance = calculate_distance(self.tupleData, centroids[i])\n",
    "            if newDistance < nearestDistance:\n",
    "                nearestDistance = newDistance\n",
    "                nearest = i\n",
    "        return nearest"
   ]
  },
  {
   "cell_type": "markdown",
   "metadata": {},
   "source": [
    "## Random Starting Centroids\n",
    "\n",
    "This is a simple function for creating our initial set of K random centroids. Numpy is used here to create random coordinate sets. Pretty straightforward."
   ]
  },
  {
   "cell_type": "code",
   "execution_count": 95,
   "metadata": {},
   "outputs": [],
   "source": [
    "# Create K random centroids based on our dataset\n",
    "def random_centroids(k, data_frame):\n",
    "    centroids = []\n",
    "    for i in range(0, k):\n",
    "        coords = []\n",
    "        for j in range(1, len(data_frame.columns)):\n",
    "            coords.append(np.random.randint(-5, 6))\n",
    "        centroids.append(coords)\n",
    "    return centroids"
   ]
  },
  {
   "cell_type": "markdown",
   "metadata": {},
   "source": [
    "## Creating our set of DataPoints\n",
    "\n",
    "The __create_points__ function simply passes our dataframe, row-by-row, to the __DataPoint__ class's __init__ method before returning a list of the newly created DataPoints."
   ]
  },
  {
   "cell_type": "code",
   "execution_count": 18,
   "metadata": {},
   "outputs": [],
   "source": [
    "# Create a list of datapoints, one for each row of our dataframe\n",
    "def create_points(centroids, dataFrame):\n",
    "    pointList = []\n",
    "    for i in range(0, len(dataFrame.index)):\n",
    "        pointList.append(DataPoint(centroids, dataFrame,[i]))\n",
    "    return pointList"
   ]
  },
  {
   "cell_type": "markdown",
   "metadata": {},
   "source": [
    "## Recalculating our Centroids\n",
    "\n",
    "This is the most important step in the algorithm. For each cluster (a group of DataPoints with the same nearest centroid), the midpoint is calculated (take the mean of each coordinate). This midpoint becomes the new centroid."
   ]
  },
  {
   "cell_type": "code",
   "execution_count": 26,
   "metadata": {},
   "outputs": [],
   "source": [
    "# Recalculates centroid positions based on the mean coordinates of their associated points\n",
    "def calculate_centroids(pointList, centroids):\n",
    "    points = []\n",
    "    # For each centroid\n",
    "    for i in range(0, len(centroids)):\n",
    "        # Make a list of all points that have it assigned as their \"nearestCentroid\"\n",
    "        points = []\n",
    "        for point in pointList:\n",
    "            if point.nearestCentroid == i:\n",
    "                points.append(point)\n",
    "        # Now we calculate our new centroid by taking the average of all values in our list\n",
    "        if len(points) > 0:\n",
    "            # Originally this was a one-liner, but I had to split it up for debugging purposes.\n",
    "            # Make a list of all the points\n",
    "            array_base = []\n",
    "            for point in points:\n",
    "                array_base += point.tupleData\n",
    "            # Turn that into a numpy array and reshape it so each point's values are stacked on top of one another\n",
    "            array = np.array(array_base).reshape(len(points), (len(points[0].tupleData)))\n",
    "            # Sum our columns\n",
    "            array_sum = np.sum(array, 0)\n",
    "            # Divide by the number of rows to get our new centroid\n",
    "            array_avg = array_sum / len(points)\n",
    "            # Convert it back into a list\n",
    "            array_list = array_avg.tolist()\n",
    "            # Assign this as our new centroid\n",
    "            centroids[i] = array_list"
   ]
  },
  {
   "cell_type": "markdown",
   "metadata": {},
   "source": [
    "## Centroid assignment\n",
    "\n",
    "After our centroids have been either randomly assigned or recaluclated, the next step is to iterate through each point and reassign our nearest centroids. The function is pretty self-explanatory."
   ]
  },
  {
   "cell_type": "code",
   "execution_count": 96,
   "metadata": {},
   "outputs": [],
   "source": [
    "# Calculates our new centroids based on their grouping\n",
    "def assign_centroids(pointList, centroids):\n",
    "    for i in pointList:\n",
    "        i.nearestCentroid = i.getNearestCentroid(centroids)"
   ]
  },
  {
   "cell_type": "markdown",
   "metadata": {},
   "source": [
    "## The Full Algorithm - k_means()\n",
    "\n",
    "Now that all of our pieces are in place, we can assemble our final algorithm.\n",
    "\n",
    "Parameters:\n",
    "* K - the number of clusters.\n",
    "* raw_data - our dataframe\n",
    "* iter_max - the maximum number of iterations (this is arbitrary, and solely to prevent infinite loops in case of unexpected bugs).\n",
    "* kwargs - 'graph' outputs a heatmap of our final result. 'ssq_error' makes the funtion return our sum of squared error.\n",
    "\n",
    "Our steps are as follows.\n",
    "\n",
    "1. Create K initial centroids with random values with the __random_centroids__ function.\n",
    "2. For each datapoint assign an initial random centroid. (This is handled in the __init__ method of the DataPoint class, which is in turn accessed through the __create_points__ function.)\n",
    "3. Repeat until no centroid assignments change.\n",
    "    * Recalculate each centroid using __calculate_centroids__.\n",
    "    * Reassign each point a new nearest centroid using __assign_centroids___\n",
    "    * Check to see if centroid assignments have changed, and if so, exit the loop."
   ]
  },
  {
   "cell_type": "code",
   "execution_count": 98,
   "metadata": {},
   "outputs": [],
   "source": [
    "# WORKING - Our complete function\n",
    "def k_means(k, raw_data, iter_max, **kwargs):\n",
    "    centroidList = random_centroids(k, data)\n",
    "    pointList = create_points(centroidList, data)\n",
    "    \n",
    "    # Initialize a list for use in checking cluster assignments\n",
    "    clusters = []\n",
    "    # Iterate repeatedly, recalculating centroids and reassigning groups until assignments stay the same\n",
    "    for i in range(0, iter_max):\n",
    "        calculate_centroids(pointList, centroidList)\n",
    "        assign_centroids(pointList, centroidList)\n",
    "        \n",
    "        # Check if our cluster assignments have changed\n",
    "        new_clusters = [point.nearestCentroid for point in pointList]\n",
    "        # If there is no change then we are finished and can return\n",
    "        if new_clusters == clusters:\n",
    "            break\n",
    "    \n",
    "    # start our list of values that will be used for plotting.\n",
    "    dfList = []\n",
    "    # Add our points to our list of lists in order of cluster assignments\n",
    "    for i in range(0, k):\n",
    "        for point in pointList:\n",
    "            if point.nearestCentroid == i:\n",
    "                dfList.append(point.tupleData)\n",
    "    # Make dfList into a dataframe so we can plot it\n",
    "    plotDf = pd.DataFrame(dfList)\n",
    "    \n",
    "    if kwargs.get('graph'):\n",
    "    # Create the plot\n",
    "        %matplotlib inline\n",
    "        plt.pcolor(plotDf, cmap = 'RdBu')\n",
    "        plt.title('Gene Expression Heatmap')\n",
    "        \n",
    "    if kwargs.get('ssq_error'):\n",
    "        ssq_error = 0\n",
    "        for point in pointList:\n",
    "            ssq_error += calculate_distance(point.tupleData, centroidList[point.nearestCentroid])\n",
    "        # So we can see where we're at.\n",
    "        print(ssq_error)\n",
    "        return ssq_error"
   ]
  },
  {
   "cell_type": "markdown",
   "metadata": {},
   "source": [
    "## Determining the Optimal K - The Elbow Method\n",
    "\n",
    "So how do we determine the correct value for K? There are several ways to do this, but the [elbow method](https://www.datanovia.com/en/lessons/determining-the-optimal-number-of-clusters-3-must-know-methods/#elbow-method) is relatively common and simple method.\n",
    "\n",
    "We will run our algorithm at a range of different values for K and plot our sum of squared error. The \"elbow\" in the resulting graph will be located at our optimal value for K."
   ]
  },
  {
   "cell_type": "code",
   "execution_count": 99,
   "metadata": {},
   "outputs": [
    {
     "name": "stdout",
     "output_type": "stream",
     "text": [
      "622.3232519971899\n",
      "538.5454761865755\n",
      "509.1475254552332\n",
      "501.8558572124131\n",
      "491.309897206085\n"
     ]
    }
   ],
   "source": [
    "# Run our algorithm at a range of different values for K and keep track of our sum of squared error\n",
    "k_max = 5\n",
    "# List comprehension like a fancy lad!\n",
    "errorData = [k_means(i, data, 100, ssq_error = True) for i in range(1, k_max + 1)]"
   ]
  },
  {
   "cell_type": "code",
   "execution_count": 100,
   "metadata": {},
   "outputs": [
    {
     "data": {
      "image/png": "[encoded data removed]",
      "text/plain": [
       "<Figure size 432x288 with 1 Axes>"
      ]
     },
     "metadata": {
      "needs_background": "light"
     },
     "output_type": "display_data"
    }
   ],
   "source": [
    "# Plot our error\n",
    "%matplotlib inline\n",
    "plt.plot([i for i in range(1, k_max + 1)], errorData, marker = '.', linestyle = '-')\n",
    "plt.locator_params(integer=True)\n",
    "plt.xlabel('Value of K')\n",
    "plt.ylabel('Sum of Squared Error')\n",
    "plt.grid(color='gray', linestyle='-', linewidth=1, alpha = .25)"
   ]
  },
  {
   "cell_type": "markdown",
   "metadata": {},
   "source": [
    "## Final Results and Heatmap\n",
    "\n",
    "From the graph above, the \"elbow\" appears to be at k = 2. If we run our algorithm with this as our parameter we get a very neat looking heatmap, which supports our assumption of the value for k."
   ]
  },
  {
   "cell_type": "code",
   "execution_count": 85,
   "metadata": {},
   "outputs": [
    {
     "data": {
      "image/png": "[encoded data removed]",
      "text/plain": [
       "<Figure size 432x288 with 1 Axes>"
      ]
     },
     "metadata": {
      "needs_background": "light"
     },
     "output_type": "display_data"
    }
   ],
   "source": [
    "k_means(2, data, 100, graph = True)"
   ]
  }
 ],
 "metadata": {
  "kernelspec": {
   "display_name": "Python 3",
   "language": "python",
   "name": "python3"
  },
  "language_info": {
   "codemirror_mode": {
    "name": "ipython",
    "version": 3
   },
   "file_extension": ".py",
   "mimetype": "text/x-python",
   "name": "python",
   "nbconvert_exporter": "python",
   "pygments_lexer": "ipython3",
   "version": "3.7.3"
  }
 },
 "nbformat": 4,
 "nbformat_minor": 2
}
